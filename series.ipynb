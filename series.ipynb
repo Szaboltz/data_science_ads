{
  "nbformat": 4,
  "nbformat_minor": 0,
  "metadata": {
    "colab": {
      "provenance": [],
      "generative_ai_disabled": true,
      "include_colab_link": true
    },
    "kernelspec": {
      "name": "python3",
      "display_name": "Python 3"
    },
    "language_info": {
      "name": "python"
    }
  },
  "cells": [
    {
      "cell_type": "markdown",
      "metadata": {
        "id": "view-in-github",
        "colab_type": "text"
      },
      "source": [
        "<a href=\"https://colab.research.google.com/github/Szaboltz/data_science_ads/blob/master/series.ipynb\" target=\"_parent\"><img src=\"https://colab.research.google.com/assets/colab-badge.svg\" alt=\"Open In Colab\"/></a>"
      ]
    },
    {
      "cell_type": "code",
      "execution_count": null,
      "metadata": {
        "id": "gDPgfApnctS2"
      },
      "outputs": [],
      "source": [
        "import pandas as pd"
      ]
    },
    {
      "cell_type": "code",
      "source": [
        "# Criar a Series notas\n",
        "grades = pd.Series([7.6, 5.8, 8.5, 9.5, 6.4])\n",
        "\n",
        "# Criar a Series alunos\n",
        "lst_registration = ['M02', 'M05', 'M13', 'M14', 'M19']\n",
        "lst_names = ['Bob', 'Dayse', 'Bill', 'Cris', 'Jimi']\n",
        "students = pd.Series(lst_names, index=lst_registration)\n",
        "\n",
        "print(grades)\n",
        "print('------------------------')\n",
        "print(students)"
      ],
      "metadata": {
        "colab": {
          "base_uri": "https://localhost:8080/"
        },
        "id": "4dZqZulFeFaO",
        "outputId": "51c17dc9-223a-40f8-f3ac-a045d2164778"
      },
      "execution_count": null,
      "outputs": [
        {
          "output_type": "stream",
          "name": "stdout",
          "text": [
            "0    7.6\n",
            "1    5.8\n",
            "2    8.5\n",
            "3    9.5\n",
            "4    6.4\n",
            "dtype: float64\n",
            "------------------------\n",
            "M02      Bob\n",
            "M05    Dayse\n",
            "M13     Bill\n",
            "M14     Cris\n",
            "M19     Jimi\n",
            "dtype: object\n"
          ]
        }
      ]
    },
    {
      "cell_type": "code",
      "source": [
        "# Criação de Series - Dicionario\n",
        "dic_students = {'M02':'Bob', 'M05':'Dayse', 'M13':'Bill', 'M14':'Cris', 'M19':'Jimi'}\n",
        "students2 = pd.Series(dic_students)\n",
        "print(students2)"
      ],
      "metadata": {
        "colab": {
          "base_uri": "https://localhost:8080/"
        },
        "id": "zyal5RpzgV4Y",
        "outputId": "d27b6466-aca7-4d8e-a299-5a77f4949f56"
      },
      "execution_count": null,
      "outputs": [
        {
          "output_type": "stream",
          "name": "stdout",
          "text": [
            "M02      Bob\n",
            "M05    Dayse\n",
            "M13     Bill\n",
            "M14     Cris\n",
            "M19     Jimi\n",
            "dtype: object\n"
          ]
        }
      ]
    },
    {
      "cell_type": "code",
      "source": [
        "# Propriedades básicas das Series\n",
        "students = pd.Series({'M02':'Bob', 'M05':'Dayse', 'M13':'Bill', 'M14':'Cris', 'M19':'Jimi'})\n",
        "\n",
        "# Atribuição de nomes para os vetores de dados e rótulos (indices)\n",
        "students.name = \"alunos\"\n",
        "students.index.name = \"matricula\"\n",
        "\n",
        "print(students)\n",
        "\n",
        "size = students.size\n",
        "data = students.values\n",
        "labels = students.index\n",
        "students_type = type(students)\n",
        "students_dtype = students.dtype\n",
        "students_idx_dtype = students.index.dtype\n",
        "\n",
        "print('numero de elementos: ', size)\n",
        "print('vetor de dados: ', data)\n",
        "print('vetor de rotulos: ', labels)\n",
        "print('tipo (type): ', students_type)\n",
        "print('dtype da series: ', students_dtype)\n",
        "print('dtype do vetor e dados: ', students_idx_dtype)"
      ],
      "metadata": {
        "colab": {
          "base_uri": "https://localhost:8080/"
        },
        "id": "7nhi7b10hWb1",
        "outputId": "0d54baa1-1cf0-4285-842c-925fe52e3ac4"
      },
      "execution_count": null,
      "outputs": [
        {
          "output_type": "stream",
          "name": "stdout",
          "text": [
            "matricula\n",
            "M02      Bob\n",
            "M05    Dayse\n",
            "M13     Bill\n",
            "M14     Cris\n",
            "M19     Jimi\n",
            "Name: alunos, dtype: object\n",
            "numero de elementos:  5\n",
            "vetor de dados:  ['Bob' 'Dayse' 'Bill' 'Cris' 'Jimi']\n",
            "vetor de rotulos:  Index(['M02', 'M05', 'M13', 'M14', 'M19'], dtype='object', name='matricula')\n",
            "tipo (type):  <class 'pandas.core.series.Series'>\n",
            "dtype da series:  object\n",
            "dtype do vetor e dados:  object\n"
          ]
        }
      ]
    },
    {
      "cell_type": "code",
      "source": [
        "# Indexação booleano\n",
        "# Obtém os indices dos alunos aprovados\n",
        "idx_approved = grades[grades >= 7].index\n",
        "\n",
        "#imprimi os alunos aprovados\n",
        "print('Relação de alunos aprovados')\n",
        "print('---------------------------')\n",
        "#print(students[idx_approved])\n",
        "print(students.iloc[idx_approved])"
      ],
      "metadata": {
        "colab": {
          "base_uri": "https://localhost:8080/"
        },
        "id": "zLztgIxsk3BP",
        "outputId": "c05e07e7-1074-46ab-89a2-27a90597885a"
      },
      "execution_count": null,
      "outputs": [
        {
          "output_type": "stream",
          "name": "stdout",
          "text": [
            "Relação de alunos aprovados\n",
            "---------------------------\n",
            "matricula\n",
            "M02     Bob\n",
            "M13    Bill\n",
            "M14    Cris\n",
            "Name: alunos, dtype: object\n"
          ]
        }
      ]
    },
    {
      "cell_type": "code",
      "source": [
        "# Buscas em series\n",
        "\n",
        "has_m13 = 'M13' in students\n",
        "has_m99 = 'M99' in students\n",
        "print('Existe o rotulo \"M13\": ', has_m13)\n",
        "print('Existe o rotulo \"M99\": ', has_m99)\n",
        "\n",
        "# esta se valor faz parte da Series\n",
        "has_bob = students.isin(['Bob'])\n",
        "print('Existe o valor \"Bob\"? ', has_bob)\n",
        "\n",
        "has_bob = students.isin(['Cris'])\n",
        "print('Existe o valor \"Cris\"? ', has_bob)"
      ],
      "metadata": {
        "colab": {
          "base_uri": "https://localhost:8080/"
        },
        "id": "Du0mi07HmNfo",
        "outputId": "4c125228-42ee-43ae-f750-f02a53a7c629"
      },
      "execution_count": 15,
      "outputs": [
        {
          "output_type": "stream",
          "name": "stdout",
          "text": [
            "Existe o rotulo \"M13\":  True\n",
            "Existe o rotulo \"M99\":  False\n",
            "Existe o valor \"Bob\"?  matricula\n",
            "M02     True\n",
            "M05    False\n",
            "M13    False\n",
            "M14    False\n",
            "M19    False\n",
            "Name: alunos, dtype: bool\n",
            "Existe o valor \"Cris\"?  matricula\n",
            "M02    False\n",
            "M05    False\n",
            "M13    False\n",
            "M14     True\n",
            "M19    False\n",
            "Name: alunos, dtype: bool\n"
          ]
        }
      ]
    },
    {
      "cell_type": "code",
      "source": [
        "# test"
      ],
      "metadata": {
        "id": "YTu5Q_snpcDl"
      },
      "execution_count": 15,
      "outputs": []
    }
  ]
}